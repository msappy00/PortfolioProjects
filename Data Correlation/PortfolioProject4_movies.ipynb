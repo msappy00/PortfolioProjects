{
 "cells": [
  {
   "cell_type": "markdown",
   "metadata": {
    "id": "pplsJc9l3dae"
   },
   "source": [
    "import libraries"
   ]
  },
  {
   "cell_type": "code",
   "execution_count": 1,
   "metadata": {
    "id": "CewFW6AL3XiP"
   },
   "outputs": [],
   "source": [
    "import pandas as pd\n",
    "import numpy as np\n",
    "import seaborn as sns\n",
    "\n",
    "import matplotlib\n",
    "import matplotlib.pyplot as plt\n",
    "plt.style.use('ggplot')\n",
    "from matplotlib.pyplot import figure\n",
    "\n",
    "%matplotlib inline\n",
    "matplotlib.rcParams['figure.figsize'] = (12, 8) # adjusts the config of the plots\n",
    "\n",
    "pd.options.mode.chained_assignment = None"
   ]
  },
  {
   "cell_type": "markdown",
   "metadata": {
    "id": "SoHJFEd84veC"
   },
   "source": [
    "read in the data"
   ]
  },
  {
   "cell_type": "code",
   "execution_count": 22,
   "metadata": {
    "colab": {
     "base_uri": "https://localhost:8080/",
     "height": 548
    },
    "id": "GAy0ONSp4xVE",
    "outputId": "cd8e1c7e-b946-44e9-ebf5-97d8941424c8"
   },
   "outputs": [
    {
     "data": {
      "text/html": [
       "<div>\n",
       "<style scoped>\n",
       "    .dataframe tbody tr th:only-of-type {\n",
       "        vertical-align: middle;\n",
       "    }\n",
       "\n",
       "    .dataframe tbody tr th {\n",
       "        vertical-align: top;\n",
       "    }\n",
       "\n",
       "    .dataframe thead th {\n",
       "        text-align: right;\n",
       "    }\n",
       "</style>\n",
       "<table border=\"1\" class=\"dataframe\">\n",
       "  <thead>\n",
       "    <tr style=\"text-align: right;\">\n",
       "      <th></th>\n",
       "      <th>name</th>\n",
       "      <th>rating</th>\n",
       "      <th>genre</th>\n",
       "      <th>year</th>\n",
       "      <th>released</th>\n",
       "      <th>score</th>\n",
       "      <th>votes</th>\n",
       "      <th>director</th>\n",
       "      <th>writer</th>\n",
       "      <th>star</th>\n",
       "      <th>country</th>\n",
       "      <th>budget</th>\n",
       "      <th>gross</th>\n",
       "      <th>company</th>\n",
       "      <th>runtime</th>\n",
       "    </tr>\n",
       "  </thead>\n",
       "  <tbody>\n",
       "    <tr>\n",
       "      <th>0</th>\n",
       "      <td>The Shining</td>\n",
       "      <td>R</td>\n",
       "      <td>Drama</td>\n",
       "      <td>1980</td>\n",
       "      <td>June 13, 1980 (United States)</td>\n",
       "      <td>8.4</td>\n",
       "      <td>927000.0</td>\n",
       "      <td>Stanley Kubrick</td>\n",
       "      <td>Stephen King</td>\n",
       "      <td>Jack Nicholson</td>\n",
       "      <td>United Kingdom</td>\n",
       "      <td>19000000.0</td>\n",
       "      <td>46998772.0</td>\n",
       "      <td>Warner Bros.</td>\n",
       "      <td>146.0</td>\n",
       "    </tr>\n",
       "    <tr>\n",
       "      <th>1</th>\n",
       "      <td>The Blue Lagoon</td>\n",
       "      <td>R</td>\n",
       "      <td>Adventure</td>\n",
       "      <td>1980</td>\n",
       "      <td>July 2, 1980 (United States)</td>\n",
       "      <td>5.8</td>\n",
       "      <td>65000.0</td>\n",
       "      <td>Randal Kleiser</td>\n",
       "      <td>Henry De Vere Stacpoole</td>\n",
       "      <td>Brooke Shields</td>\n",
       "      <td>United States</td>\n",
       "      <td>4500000.0</td>\n",
       "      <td>58853106.0</td>\n",
       "      <td>Columbia Pictures</td>\n",
       "      <td>104.0</td>\n",
       "    </tr>\n",
       "    <tr>\n",
       "      <th>2</th>\n",
       "      <td>Star Wars: Episode V - The Empire Strikes Back</td>\n",
       "      <td>PG</td>\n",
       "      <td>Action</td>\n",
       "      <td>1980</td>\n",
       "      <td>June 20, 1980 (United States)</td>\n",
       "      <td>8.7</td>\n",
       "      <td>1200000.0</td>\n",
       "      <td>Irvin Kershner</td>\n",
       "      <td>Leigh Brackett</td>\n",
       "      <td>Mark Hamill</td>\n",
       "      <td>United States</td>\n",
       "      <td>18000000.0</td>\n",
       "      <td>538375067.0</td>\n",
       "      <td>Lucasfilm</td>\n",
       "      <td>124.0</td>\n",
       "    </tr>\n",
       "    <tr>\n",
       "      <th>3</th>\n",
       "      <td>Airplane!</td>\n",
       "      <td>PG</td>\n",
       "      <td>Comedy</td>\n",
       "      <td>1980</td>\n",
       "      <td>July 2, 1980 (United States)</td>\n",
       "      <td>7.7</td>\n",
       "      <td>221000.0</td>\n",
       "      <td>Jim Abrahams</td>\n",
       "      <td>Jim Abrahams</td>\n",
       "      <td>Robert Hays</td>\n",
       "      <td>United States</td>\n",
       "      <td>3500000.0</td>\n",
       "      <td>83453539.0</td>\n",
       "      <td>Paramount Pictures</td>\n",
       "      <td>88.0</td>\n",
       "    </tr>\n",
       "    <tr>\n",
       "      <th>4</th>\n",
       "      <td>Caddyshack</td>\n",
       "      <td>R</td>\n",
       "      <td>Comedy</td>\n",
       "      <td>1980</td>\n",
       "      <td>July 25, 1980 (United States)</td>\n",
       "      <td>7.3</td>\n",
       "      <td>108000.0</td>\n",
       "      <td>Harold Ramis</td>\n",
       "      <td>Brian Doyle-Murray</td>\n",
       "      <td>Chevy Chase</td>\n",
       "      <td>United States</td>\n",
       "      <td>6000000.0</td>\n",
       "      <td>39846344.0</td>\n",
       "      <td>Orion Pictures</td>\n",
       "      <td>98.0</td>\n",
       "    </tr>\n",
       "  </tbody>\n",
       "</table>\n",
       "</div>"
      ],
      "text/plain": [
       "                                             name rating      genre  year  \\\n",
       "0                                     The Shining      R      Drama  1980   \n",
       "1                                 The Blue Lagoon      R  Adventure  1980   \n",
       "2  Star Wars: Episode V - The Empire Strikes Back     PG     Action  1980   \n",
       "3                                       Airplane!     PG     Comedy  1980   \n",
       "4                                      Caddyshack      R     Comedy  1980   \n",
       "\n",
       "                        released  score      votes         director  \\\n",
       "0  June 13, 1980 (United States)    8.4   927000.0  Stanley Kubrick   \n",
       "1   July 2, 1980 (United States)    5.8    65000.0   Randal Kleiser   \n",
       "2  June 20, 1980 (United States)    8.7  1200000.0   Irvin Kershner   \n",
       "3   July 2, 1980 (United States)    7.7   221000.0     Jim Abrahams   \n",
       "4  July 25, 1980 (United States)    7.3   108000.0     Harold Ramis   \n",
       "\n",
       "                    writer            star         country      budget  \\\n",
       "0             Stephen King  Jack Nicholson  United Kingdom  19000000.0   \n",
       "1  Henry De Vere Stacpoole  Brooke Shields   United States   4500000.0   \n",
       "2           Leigh Brackett     Mark Hamill   United States  18000000.0   \n",
       "3             Jim Abrahams     Robert Hays   United States   3500000.0   \n",
       "4       Brian Doyle-Murray     Chevy Chase   United States   6000000.0   \n",
       "\n",
       "         gross             company  runtime  \n",
       "0   46998772.0        Warner Bros.    146.0  \n",
       "1   58853106.0   Columbia Pictures    104.0  \n",
       "2  538375067.0           Lucasfilm    124.0  \n",
       "3   83453539.0  Paramount Pictures     88.0  \n",
       "4   39846344.0      Orion Pictures     98.0  "
      ]
     },
     "execution_count": 22,
     "metadata": {},
     "output_type": "execute_result"
    }
   ],
   "source": [
    "df = pd.read_csv('movies.csv')\n",
    "df.head()"
   ]
  },
  {
   "cell_type": "markdown",
   "metadata": {
    "id": "ZemLz4VL6uUb"
   },
   "source": [
    "check for missing data"
   ]
  },
  {
   "cell_type": "code",
   "execution_count": 23,
   "metadata": {
    "colab": {
     "base_uri": "https://localhost:8080/"
    },
    "id": "oxhoYVfv6wwn",
    "outputId": "c2ad9f09-1751-4d97-d7c8-2b98c5405476"
   },
   "outputs": [
    {
     "name": "stdout",
     "output_type": "stream",
     "text": [
      "name - 0%\n",
      "rating - 1%\n",
      "genre - 0%\n",
      "year - 0%\n",
      "released - 0%\n",
      "score - 0%\n",
      "votes - 0%\n",
      "director - 0%\n",
      "writer - 0%\n",
      "star - 0%\n",
      "country - 0%\n",
      "budget - 28%\n",
      "gross - 2%\n",
      "company - 0%\n",
      "runtime - 0%\n"
     ]
    }
   ],
   "source": [
    "for col in df.columns:\n",
    "    pct_missing = np.mean(df[col].isnull())\n",
    "    print('{} - {}%'.format(col, round(pct_missing*100)))"
   ]
  },
  {
   "cell_type": "markdown",
   "metadata": {
    "id": "hVizyIZQ8bXF"
   },
   "source": [
    "drop rows with empty values"
   ]
  },
  {
   "cell_type": "code",
   "execution_count": 24,
   "metadata": {
    "id": "FJFA_j4a8ai_"
   },
   "outputs": [],
   "source": [
    "df = df.dropna()"
   ]
  },
  {
   "cell_type": "markdown",
   "metadata": {
    "id": "2KVW5wRt8tCM"
   },
   "source": [
    "extract the correct year"
   ]
  },
  {
   "cell_type": "code",
   "execution_count": 32,
   "metadata": {
    "id": "umJsMzPl8ymY"
   },
   "outputs": [],
   "source": [
    "df['yearcorrect'] = df['released'].str.extract(pat = '([0-9]{4})').astype(int)"
   ]
  },
  {
   "cell_type": "markdown",
   "metadata": {
    "id": "peOE-L8C9lcf"
   },
   "source": [
    "datatypes for columns"
   ]
  },
  {
   "cell_type": "code",
   "execution_count": 26,
   "metadata": {
    "colab": {
     "base_uri": "https://localhost:8080/"
    },
    "id": "QK27YtR99Lsj",
    "outputId": "102a2d65-1e36-4ca1-bc3d-894d4aad7c12"
   },
   "outputs": [
    {
     "data": {
      "text/plain": [
       "name         object\n",
       "rating       object\n",
       "genre        object\n",
       "year          int64\n",
       "released     object\n",
       "score       float64\n",
       "votes         int64\n",
       "director     object\n",
       "writer       object\n",
       "star         object\n",
       "country      object\n",
       "budget        int64\n",
       "gross         int64\n",
       "company      object\n",
       "runtime     float64\n",
       "dtype: object"
      ]
     },
     "execution_count": 26,
     "metadata": {},
     "output_type": "execute_result"
    }
   ],
   "source": [
    "df.dtypes"
   ]
  },
  {
   "cell_type": "markdown",
   "metadata": {
    "id": "4eL0UXSZ-Nq5"
   },
   "source": [
    "format budget and gross as integers"
   ]
  },
  {
   "cell_type": "code",
   "execution_count": 25,
   "metadata": {
    "id": "MMaxbzvt-Yfy"
   },
   "outputs": [],
   "source": [
    "df['budget'] = df['budget'].astype('int64')\n",
    "df['gross'] = df['gross'].astype('int64')\n",
    "df['votes'] = df['votes'].astype('int64')"
   ]
  },
  {
   "cell_type": "code",
   "execution_count": 33,
   "metadata": {
    "colab": {
     "base_uri": "https://localhost:8080/"
    },
    "id": "EbsHV0Dn-o23",
    "outputId": "e05d87e0-142c-4bb9-b791-fae4a8e349b4"
   },
   "outputs": [
    {
     "data": {
      "text/plain": [
       "0    1980\n",
       "1    1980\n",
       "2    1980\n",
       "3    1980\n",
       "4    1980\n",
       "Name: yearcorrect, dtype: int64"
      ]
     },
     "execution_count": 33,
     "metadata": {},
     "output_type": "execute_result"
    }
   ],
   "source": [
    "df['yearcorrect'].head()"
   ]
  },
  {
   "cell_type": "code",
   "execution_count": 9,
   "metadata": {
    "id": "X3pKYA6EAFx6"
   },
   "outputs": [
    {
     "data": {
      "text/html": [
       "<div>\n",
       "<style scoped>\n",
       "    .dataframe tbody tr th:only-of-type {\n",
       "        vertical-align: middle;\n",
       "    }\n",
       "\n",
       "    .dataframe tbody tr th {\n",
       "        vertical-align: top;\n",
       "    }\n",
       "\n",
       "    .dataframe thead th {\n",
       "        text-align: right;\n",
       "    }\n",
       "</style>\n",
       "<table border=\"1\" class=\"dataframe\">\n",
       "  <thead>\n",
       "    <tr style=\"text-align: right;\">\n",
       "      <th></th>\n",
       "      <th>name</th>\n",
       "      <th>rating</th>\n",
       "      <th>genre</th>\n",
       "      <th>year</th>\n",
       "      <th>released</th>\n",
       "      <th>score</th>\n",
       "      <th>votes</th>\n",
       "      <th>director</th>\n",
       "      <th>writer</th>\n",
       "      <th>star</th>\n",
       "      <th>country</th>\n",
       "      <th>budget</th>\n",
       "      <th>gross</th>\n",
       "      <th>company</th>\n",
       "      <th>runtime</th>\n",
       "    </tr>\n",
       "  </thead>\n",
       "  <tbody>\n",
       "    <tr>\n",
       "      <th>5445</th>\n",
       "      <td>Avatar</td>\n",
       "      <td>PG-13</td>\n",
       "      <td>Action</td>\n",
       "      <td>2009</td>\n",
       "      <td>December 18, 2009 (United States)</td>\n",
       "      <td>7.8</td>\n",
       "      <td>1100000</td>\n",
       "      <td>James Cameron</td>\n",
       "      <td>James Cameron</td>\n",
       "      <td>Sam Worthington</td>\n",
       "      <td>United States</td>\n",
       "      <td>237000000</td>\n",
       "      <td>2847246203</td>\n",
       "      <td>Twentieth Century Fox</td>\n",
       "      <td>162.0</td>\n",
       "    </tr>\n",
       "    <tr>\n",
       "      <th>7445</th>\n",
       "      <td>Avengers: Endgame</td>\n",
       "      <td>PG-13</td>\n",
       "      <td>Action</td>\n",
       "      <td>2019</td>\n",
       "      <td>April 26, 2019 (United States)</td>\n",
       "      <td>8.4</td>\n",
       "      <td>903000</td>\n",
       "      <td>Anthony Russo</td>\n",
       "      <td>Christopher Markus</td>\n",
       "      <td>Robert Downey Jr.</td>\n",
       "      <td>United States</td>\n",
       "      <td>356000000</td>\n",
       "      <td>2797501328</td>\n",
       "      <td>Marvel Studios</td>\n",
       "      <td>181.0</td>\n",
       "    </tr>\n",
       "    <tr>\n",
       "      <th>3045</th>\n",
       "      <td>Titanic</td>\n",
       "      <td>PG-13</td>\n",
       "      <td>Drama</td>\n",
       "      <td>1997</td>\n",
       "      <td>December 19, 1997 (United States)</td>\n",
       "      <td>7.8</td>\n",
       "      <td>1100000</td>\n",
       "      <td>James Cameron</td>\n",
       "      <td>James Cameron</td>\n",
       "      <td>Leonardo DiCaprio</td>\n",
       "      <td>United States</td>\n",
       "      <td>200000000</td>\n",
       "      <td>2201647264</td>\n",
       "      <td>Twentieth Century Fox</td>\n",
       "      <td>194.0</td>\n",
       "    </tr>\n",
       "    <tr>\n",
       "      <th>6663</th>\n",
       "      <td>Star Wars: Episode VII - The Force Awakens</td>\n",
       "      <td>PG-13</td>\n",
       "      <td>Action</td>\n",
       "      <td>2015</td>\n",
       "      <td>December 18, 2015 (United States)</td>\n",
       "      <td>7.8</td>\n",
       "      <td>876000</td>\n",
       "      <td>J.J. Abrams</td>\n",
       "      <td>Lawrence Kasdan</td>\n",
       "      <td>Daisy Ridley</td>\n",
       "      <td>United States</td>\n",
       "      <td>245000000</td>\n",
       "      <td>2069521700</td>\n",
       "      <td>Lucasfilm</td>\n",
       "      <td>138.0</td>\n",
       "    </tr>\n",
       "    <tr>\n",
       "      <th>7244</th>\n",
       "      <td>Avengers: Infinity War</td>\n",
       "      <td>PG-13</td>\n",
       "      <td>Action</td>\n",
       "      <td>2018</td>\n",
       "      <td>April 27, 2018 (United States)</td>\n",
       "      <td>8.4</td>\n",
       "      <td>897000</td>\n",
       "      <td>Anthony Russo</td>\n",
       "      <td>Christopher Markus</td>\n",
       "      <td>Robert Downey Jr.</td>\n",
       "      <td>United States</td>\n",
       "      <td>321000000</td>\n",
       "      <td>2048359754</td>\n",
       "      <td>Marvel Studios</td>\n",
       "      <td>149.0</td>\n",
       "    </tr>\n",
       "    <tr>\n",
       "      <th>...</th>\n",
       "      <td>...</td>\n",
       "      <td>...</td>\n",
       "      <td>...</td>\n",
       "      <td>...</td>\n",
       "      <td>...</td>\n",
       "      <td>...</td>\n",
       "      <td>...</td>\n",
       "      <td>...</td>\n",
       "      <td>...</td>\n",
       "      <td>...</td>\n",
       "      <td>...</td>\n",
       "      <td>...</td>\n",
       "      <td>...</td>\n",
       "      <td>...</td>\n",
       "      <td>...</td>\n",
       "    </tr>\n",
       "    <tr>\n",
       "      <th>5640</th>\n",
       "      <td>Tanner Hall</td>\n",
       "      <td>R</td>\n",
       "      <td>Drama</td>\n",
       "      <td>2009</td>\n",
       "      <td>January 15, 2015 (Sweden)</td>\n",
       "      <td>5.8</td>\n",
       "      <td>3500</td>\n",
       "      <td>Francesca Gregorini</td>\n",
       "      <td>Tatiana von Fürstenberg</td>\n",
       "      <td>Rooney Mara</td>\n",
       "      <td>United States</td>\n",
       "      <td>3000000</td>\n",
       "      <td>5073</td>\n",
       "      <td>Two Prong Lesson</td>\n",
       "      <td>96.0</td>\n",
       "    </tr>\n",
       "    <tr>\n",
       "      <th>2434</th>\n",
       "      <td>Philadelphia Experiment II</td>\n",
       "      <td>PG-13</td>\n",
       "      <td>Action</td>\n",
       "      <td>1993</td>\n",
       "      <td>June 4, 1994 (South Korea)</td>\n",
       "      <td>4.5</td>\n",
       "      <td>1900</td>\n",
       "      <td>Stephen Cornwell</td>\n",
       "      <td>Wallace C. Bennett</td>\n",
       "      <td>Brad Johnson</td>\n",
       "      <td>United States</td>\n",
       "      <td>5000000</td>\n",
       "      <td>2970</td>\n",
       "      <td>Trimark Pictures</td>\n",
       "      <td>97.0</td>\n",
       "    </tr>\n",
       "    <tr>\n",
       "      <th>3681</th>\n",
       "      <td>Ginger Snaps</td>\n",
       "      <td>Not Rated</td>\n",
       "      <td>Drama</td>\n",
       "      <td>2000</td>\n",
       "      <td>May 11, 2001 (Canada)</td>\n",
       "      <td>6.8</td>\n",
       "      <td>43000</td>\n",
       "      <td>John Fawcett</td>\n",
       "      <td>Karen Walton</td>\n",
       "      <td>Emily Perkins</td>\n",
       "      <td>Canada</td>\n",
       "      <td>5000000</td>\n",
       "      <td>2554</td>\n",
       "      <td>Copperheart Entertainment</td>\n",
       "      <td>108.0</td>\n",
       "    </tr>\n",
       "    <tr>\n",
       "      <th>272</th>\n",
       "      <td>Parasite</td>\n",
       "      <td>R</td>\n",
       "      <td>Horror</td>\n",
       "      <td>1982</td>\n",
       "      <td>March 12, 1982 (United States)</td>\n",
       "      <td>3.9</td>\n",
       "      <td>2300</td>\n",
       "      <td>Charles Band</td>\n",
       "      <td>Alan J. Adler</td>\n",
       "      <td>Robert Glaudini</td>\n",
       "      <td>United States</td>\n",
       "      <td>800000</td>\n",
       "      <td>2270</td>\n",
       "      <td>Embassy Pictures</td>\n",
       "      <td>85.0</td>\n",
       "    </tr>\n",
       "    <tr>\n",
       "      <th>3203</th>\n",
       "      <td>Trojan War</td>\n",
       "      <td>PG-13</td>\n",
       "      <td>Comedy</td>\n",
       "      <td>1997</td>\n",
       "      <td>October 1, 1997 (Brazil)</td>\n",
       "      <td>5.7</td>\n",
       "      <td>5800</td>\n",
       "      <td>George Huang</td>\n",
       "      <td>Andy Burg</td>\n",
       "      <td>Will Friedle</td>\n",
       "      <td>United States</td>\n",
       "      <td>15000000</td>\n",
       "      <td>309</td>\n",
       "      <td>Daybreak</td>\n",
       "      <td>85.0</td>\n",
       "    </tr>\n",
       "  </tbody>\n",
       "</table>\n",
       "<p>5421 rows × 15 columns</p>\n",
       "</div>"
      ],
      "text/plain": [
       "                                            name     rating   genre  year  \\\n",
       "5445                                      Avatar      PG-13  Action  2009   \n",
       "7445                           Avengers: Endgame      PG-13  Action  2019   \n",
       "3045                                     Titanic      PG-13   Drama  1997   \n",
       "6663  Star Wars: Episode VII - The Force Awakens      PG-13  Action  2015   \n",
       "7244                      Avengers: Infinity War      PG-13  Action  2018   \n",
       "...                                          ...        ...     ...   ...   \n",
       "5640                                 Tanner Hall          R   Drama  2009   \n",
       "2434                  Philadelphia Experiment II      PG-13  Action  1993   \n",
       "3681                                Ginger Snaps  Not Rated   Drama  2000   \n",
       "272                                     Parasite          R  Horror  1982   \n",
       "3203                                  Trojan War      PG-13  Comedy  1997   \n",
       "\n",
       "                               released  score    votes             director  \\\n",
       "5445  December 18, 2009 (United States)    7.8  1100000        James Cameron   \n",
       "7445     April 26, 2019 (United States)    8.4   903000        Anthony Russo   \n",
       "3045  December 19, 1997 (United States)    7.8  1100000        James Cameron   \n",
       "6663  December 18, 2015 (United States)    7.8   876000          J.J. Abrams   \n",
       "7244     April 27, 2018 (United States)    8.4   897000        Anthony Russo   \n",
       "...                                 ...    ...      ...                  ...   \n",
       "5640          January 15, 2015 (Sweden)    5.8     3500  Francesca Gregorini   \n",
       "2434         June 4, 1994 (South Korea)    4.5     1900     Stephen Cornwell   \n",
       "3681              May 11, 2001 (Canada)    6.8    43000         John Fawcett   \n",
       "272      March 12, 1982 (United States)    3.9     2300         Charles Band   \n",
       "3203           October 1, 1997 (Brazil)    5.7     5800         George Huang   \n",
       "\n",
       "                       writer               star        country     budget  \\\n",
       "5445            James Cameron    Sam Worthington  United States  237000000   \n",
       "7445       Christopher Markus  Robert Downey Jr.  United States  356000000   \n",
       "3045            James Cameron  Leonardo DiCaprio  United States  200000000   \n",
       "6663          Lawrence Kasdan       Daisy Ridley  United States  245000000   \n",
       "7244       Christopher Markus  Robert Downey Jr.  United States  321000000   \n",
       "...                       ...                ...            ...        ...   \n",
       "5640  Tatiana von Fürstenberg        Rooney Mara  United States    3000000   \n",
       "2434       Wallace C. Bennett       Brad Johnson  United States    5000000   \n",
       "3681             Karen Walton      Emily Perkins         Canada    5000000   \n",
       "272             Alan J. Adler    Robert Glaudini  United States     800000   \n",
       "3203                Andy Burg       Will Friedle  United States   15000000   \n",
       "\n",
       "           gross                    company  runtime  \n",
       "5445  2847246203      Twentieth Century Fox    162.0  \n",
       "7445  2797501328             Marvel Studios    181.0  \n",
       "3045  2201647264      Twentieth Century Fox    194.0  \n",
       "6663  2069521700                  Lucasfilm    138.0  \n",
       "7244  2048359754             Marvel Studios    149.0  \n",
       "...          ...                        ...      ...  \n",
       "5640        5073           Two Prong Lesson     96.0  \n",
       "2434        2970           Trimark Pictures     97.0  \n",
       "3681        2554  Copperheart Entertainment    108.0  \n",
       "272         2270           Embassy Pictures     85.0  \n",
       "3203         309                   Daybreak     85.0  \n",
       "\n",
       "[5421 rows x 15 columns]"
      ]
     },
     "execution_count": 9,
     "metadata": {},
     "output_type": "execute_result"
    }
   ],
   "source": [
    "df.sort_values(by=['gross'], inplace=False, ascending=False)"
   ]
  },
  {
   "cell_type": "markdown",
   "metadata": {
    "id": "LfgJZTiyBBvU"
   },
   "source": [
    "show all rows"
   ]
  },
  {
   "cell_type": "code",
   "execution_count": 36,
   "metadata": {
    "id": "VUvo7PHTBAqT"
   },
   "outputs": [],
   "source": [
    "pd.set_option('display.max_rows', None)"
   ]
  },
  {
   "cell_type": "markdown",
   "metadata": {
    "id": "PXAoXwqNB2CL"
   },
   "source": [
    "drop any duplicates"
   ]
  },
  {
   "cell_type": "code",
   "execution_count": 10,
   "metadata": {
    "id": "C4LxsN8YA_-7"
   },
   "outputs": [
    {
     "data": {
      "text/html": [
       "<div>\n",
       "<style scoped>\n",
       "    .dataframe tbody tr th:only-of-type {\n",
       "        vertical-align: middle;\n",
       "    }\n",
       "\n",
       "    .dataframe tbody tr th {\n",
       "        vertical-align: top;\n",
       "    }\n",
       "\n",
       "    .dataframe thead th {\n",
       "        text-align: right;\n",
       "    }\n",
       "</style>\n",
       "<table border=\"1\" class=\"dataframe\">\n",
       "  <thead>\n",
       "    <tr style=\"text-align: right;\">\n",
       "      <th></th>\n",
       "      <th>name</th>\n",
       "      <th>rating</th>\n",
       "      <th>genre</th>\n",
       "      <th>year</th>\n",
       "      <th>released</th>\n",
       "      <th>score</th>\n",
       "      <th>votes</th>\n",
       "      <th>director</th>\n",
       "      <th>writer</th>\n",
       "      <th>star</th>\n",
       "      <th>country</th>\n",
       "      <th>budget</th>\n",
       "      <th>gross</th>\n",
       "      <th>company</th>\n",
       "      <th>runtime</th>\n",
       "    </tr>\n",
       "  </thead>\n",
       "  <tbody>\n",
       "    <tr>\n",
       "      <th>0</th>\n",
       "      <td>The Shining</td>\n",
       "      <td>R</td>\n",
       "      <td>Drama</td>\n",
       "      <td>1980</td>\n",
       "      <td>June 13, 1980 (United States)</td>\n",
       "      <td>8.4</td>\n",
       "      <td>927000</td>\n",
       "      <td>Stanley Kubrick</td>\n",
       "      <td>Stephen King</td>\n",
       "      <td>Jack Nicholson</td>\n",
       "      <td>United Kingdom</td>\n",
       "      <td>19000000</td>\n",
       "      <td>46998772</td>\n",
       "      <td>Warner Bros.</td>\n",
       "      <td>146.0</td>\n",
       "    </tr>\n",
       "    <tr>\n",
       "      <th>1</th>\n",
       "      <td>The Blue Lagoon</td>\n",
       "      <td>R</td>\n",
       "      <td>Adventure</td>\n",
       "      <td>1980</td>\n",
       "      <td>July 2, 1980 (United States)</td>\n",
       "      <td>5.8</td>\n",
       "      <td>65000</td>\n",
       "      <td>Randal Kleiser</td>\n",
       "      <td>Henry De Vere Stacpoole</td>\n",
       "      <td>Brooke Shields</td>\n",
       "      <td>United States</td>\n",
       "      <td>4500000</td>\n",
       "      <td>58853106</td>\n",
       "      <td>Columbia Pictures</td>\n",
       "      <td>104.0</td>\n",
       "    </tr>\n",
       "    <tr>\n",
       "      <th>2</th>\n",
       "      <td>Star Wars: Episode V - The Empire Strikes Back</td>\n",
       "      <td>PG</td>\n",
       "      <td>Action</td>\n",
       "      <td>1980</td>\n",
       "      <td>June 20, 1980 (United States)</td>\n",
       "      <td>8.7</td>\n",
       "      <td>1200000</td>\n",
       "      <td>Irvin Kershner</td>\n",
       "      <td>Leigh Brackett</td>\n",
       "      <td>Mark Hamill</td>\n",
       "      <td>United States</td>\n",
       "      <td>18000000</td>\n",
       "      <td>538375067</td>\n",
       "      <td>Lucasfilm</td>\n",
       "      <td>124.0</td>\n",
       "    </tr>\n",
       "    <tr>\n",
       "      <th>3</th>\n",
       "      <td>Airplane!</td>\n",
       "      <td>PG</td>\n",
       "      <td>Comedy</td>\n",
       "      <td>1980</td>\n",
       "      <td>July 2, 1980 (United States)</td>\n",
       "      <td>7.7</td>\n",
       "      <td>221000</td>\n",
       "      <td>Jim Abrahams</td>\n",
       "      <td>Jim Abrahams</td>\n",
       "      <td>Robert Hays</td>\n",
       "      <td>United States</td>\n",
       "      <td>3500000</td>\n",
       "      <td>83453539</td>\n",
       "      <td>Paramount Pictures</td>\n",
       "      <td>88.0</td>\n",
       "    </tr>\n",
       "    <tr>\n",
       "      <th>4</th>\n",
       "      <td>Caddyshack</td>\n",
       "      <td>R</td>\n",
       "      <td>Comedy</td>\n",
       "      <td>1980</td>\n",
       "      <td>July 25, 1980 (United States)</td>\n",
       "      <td>7.3</td>\n",
       "      <td>108000</td>\n",
       "      <td>Harold Ramis</td>\n",
       "      <td>Brian Doyle-Murray</td>\n",
       "      <td>Chevy Chase</td>\n",
       "      <td>United States</td>\n",
       "      <td>6000000</td>\n",
       "      <td>39846344</td>\n",
       "      <td>Orion Pictures</td>\n",
       "      <td>98.0</td>\n",
       "    </tr>\n",
       "    <tr>\n",
       "      <th>...</th>\n",
       "      <td>...</td>\n",
       "      <td>...</td>\n",
       "      <td>...</td>\n",
       "      <td>...</td>\n",
       "      <td>...</td>\n",
       "      <td>...</td>\n",
       "      <td>...</td>\n",
       "      <td>...</td>\n",
       "      <td>...</td>\n",
       "      <td>...</td>\n",
       "      <td>...</td>\n",
       "      <td>...</td>\n",
       "      <td>...</td>\n",
       "      <td>...</td>\n",
       "      <td>...</td>\n",
       "    </tr>\n",
       "    <tr>\n",
       "      <th>7648</th>\n",
       "      <td>Bad Boys for Life</td>\n",
       "      <td>R</td>\n",
       "      <td>Action</td>\n",
       "      <td>2020</td>\n",
       "      <td>January 17, 2020 (United States)</td>\n",
       "      <td>6.6</td>\n",
       "      <td>140000</td>\n",
       "      <td>Adil El Arbi</td>\n",
       "      <td>Peter Craig</td>\n",
       "      <td>Will Smith</td>\n",
       "      <td>United States</td>\n",
       "      <td>90000000</td>\n",
       "      <td>426505244</td>\n",
       "      <td>Columbia Pictures</td>\n",
       "      <td>124.0</td>\n",
       "    </tr>\n",
       "    <tr>\n",
       "      <th>7649</th>\n",
       "      <td>Sonic the Hedgehog</td>\n",
       "      <td>PG</td>\n",
       "      <td>Action</td>\n",
       "      <td>2020</td>\n",
       "      <td>February 14, 2020 (United States)</td>\n",
       "      <td>6.5</td>\n",
       "      <td>102000</td>\n",
       "      <td>Jeff Fowler</td>\n",
       "      <td>Pat Casey</td>\n",
       "      <td>Ben Schwartz</td>\n",
       "      <td>United States</td>\n",
       "      <td>85000000</td>\n",
       "      <td>319715683</td>\n",
       "      <td>Paramount Pictures</td>\n",
       "      <td>99.0</td>\n",
       "    </tr>\n",
       "    <tr>\n",
       "      <th>7650</th>\n",
       "      <td>Dolittle</td>\n",
       "      <td>PG</td>\n",
       "      <td>Adventure</td>\n",
       "      <td>2020</td>\n",
       "      <td>January 17, 2020 (United States)</td>\n",
       "      <td>5.6</td>\n",
       "      <td>53000</td>\n",
       "      <td>Stephen Gaghan</td>\n",
       "      <td>Stephen Gaghan</td>\n",
       "      <td>Robert Downey Jr.</td>\n",
       "      <td>United States</td>\n",
       "      <td>175000000</td>\n",
       "      <td>245487753</td>\n",
       "      <td>Universal Pictures</td>\n",
       "      <td>101.0</td>\n",
       "    </tr>\n",
       "    <tr>\n",
       "      <th>7651</th>\n",
       "      <td>The Call of the Wild</td>\n",
       "      <td>PG</td>\n",
       "      <td>Adventure</td>\n",
       "      <td>2020</td>\n",
       "      <td>February 21, 2020 (United States)</td>\n",
       "      <td>6.8</td>\n",
       "      <td>42000</td>\n",
       "      <td>Chris Sanders</td>\n",
       "      <td>Michael Green</td>\n",
       "      <td>Harrison Ford</td>\n",
       "      <td>Canada</td>\n",
       "      <td>135000000</td>\n",
       "      <td>111105497</td>\n",
       "      <td>20th Century Studios</td>\n",
       "      <td>100.0</td>\n",
       "    </tr>\n",
       "    <tr>\n",
       "      <th>7652</th>\n",
       "      <td>The Eight Hundred</td>\n",
       "      <td>Not Rated</td>\n",
       "      <td>Action</td>\n",
       "      <td>2020</td>\n",
       "      <td>August 28, 2020 (United States)</td>\n",
       "      <td>6.8</td>\n",
       "      <td>3700</td>\n",
       "      <td>Hu Guan</td>\n",
       "      <td>Hu Guan</td>\n",
       "      <td>Zhi-zhong Huang</td>\n",
       "      <td>China</td>\n",
       "      <td>80000000</td>\n",
       "      <td>461421559</td>\n",
       "      <td>Beijing Diqi Yinxiang Entertainment</td>\n",
       "      <td>149.0</td>\n",
       "    </tr>\n",
       "  </tbody>\n",
       "</table>\n",
       "<p>5421 rows × 15 columns</p>\n",
       "</div>"
      ],
      "text/plain": [
       "                                                name     rating      genre  \\\n",
       "0                                        The Shining          R      Drama   \n",
       "1                                    The Blue Lagoon          R  Adventure   \n",
       "2     Star Wars: Episode V - The Empire Strikes Back         PG     Action   \n",
       "3                                          Airplane!         PG     Comedy   \n",
       "4                                         Caddyshack          R     Comedy   \n",
       "...                                              ...        ...        ...   \n",
       "7648                               Bad Boys for Life          R     Action   \n",
       "7649                              Sonic the Hedgehog         PG     Action   \n",
       "7650                                        Dolittle         PG  Adventure   \n",
       "7651                            The Call of the Wild         PG  Adventure   \n",
       "7652                               The Eight Hundred  Not Rated     Action   \n",
       "\n",
       "      year                           released  score    votes  \\\n",
       "0     1980      June 13, 1980 (United States)    8.4   927000   \n",
       "1     1980       July 2, 1980 (United States)    5.8    65000   \n",
       "2     1980      June 20, 1980 (United States)    8.7  1200000   \n",
       "3     1980       July 2, 1980 (United States)    7.7   221000   \n",
       "4     1980      July 25, 1980 (United States)    7.3   108000   \n",
       "...    ...                                ...    ...      ...   \n",
       "7648  2020   January 17, 2020 (United States)    6.6   140000   \n",
       "7649  2020  February 14, 2020 (United States)    6.5   102000   \n",
       "7650  2020   January 17, 2020 (United States)    5.6    53000   \n",
       "7651  2020  February 21, 2020 (United States)    6.8    42000   \n",
       "7652  2020    August 28, 2020 (United States)    6.8     3700   \n",
       "\n",
       "             director                   writer               star  \\\n",
       "0     Stanley Kubrick             Stephen King     Jack Nicholson   \n",
       "1      Randal Kleiser  Henry De Vere Stacpoole     Brooke Shields   \n",
       "2      Irvin Kershner           Leigh Brackett        Mark Hamill   \n",
       "3        Jim Abrahams             Jim Abrahams        Robert Hays   \n",
       "4        Harold Ramis       Brian Doyle-Murray        Chevy Chase   \n",
       "...               ...                      ...                ...   \n",
       "7648     Adil El Arbi              Peter Craig         Will Smith   \n",
       "7649      Jeff Fowler                Pat Casey       Ben Schwartz   \n",
       "7650   Stephen Gaghan           Stephen Gaghan  Robert Downey Jr.   \n",
       "7651    Chris Sanders            Michael Green      Harrison Ford   \n",
       "7652          Hu Guan                  Hu Guan    Zhi-zhong Huang   \n",
       "\n",
       "             country     budget      gross  \\\n",
       "0     United Kingdom   19000000   46998772   \n",
       "1      United States    4500000   58853106   \n",
       "2      United States   18000000  538375067   \n",
       "3      United States    3500000   83453539   \n",
       "4      United States    6000000   39846344   \n",
       "...              ...        ...        ...   \n",
       "7648   United States   90000000  426505244   \n",
       "7649   United States   85000000  319715683   \n",
       "7650   United States  175000000  245487753   \n",
       "7651          Canada  135000000  111105497   \n",
       "7652           China   80000000  461421559   \n",
       "\n",
       "                                  company  runtime  \n",
       "0                            Warner Bros.    146.0  \n",
       "1                       Columbia Pictures    104.0  \n",
       "2                               Lucasfilm    124.0  \n",
       "3                      Paramount Pictures     88.0  \n",
       "4                          Orion Pictures     98.0  \n",
       "...                                   ...      ...  \n",
       "7648                    Columbia Pictures    124.0  \n",
       "7649                   Paramount Pictures     99.0  \n",
       "7650                   Universal Pictures    101.0  \n",
       "7651                 20th Century Studios    100.0  \n",
       "7652  Beijing Diqi Yinxiang Entertainment    149.0  \n",
       "\n",
       "[5421 rows x 15 columns]"
      ]
     },
     "execution_count": 10,
     "metadata": {},
     "output_type": "execute_result"
    }
   ],
   "source": [
    "df.drop_duplicates()"
   ]
  },
  {
   "cell_type": "markdown",
   "metadata": {
    "id": "_HfZFHXKDHnW"
   },
   "source": [
    "check budget corrolation with gross\n",
    "\n",
    "check company corrolation with gross"
   ]
  },
  {
   "cell_type": "code",
   "execution_count": 11,
   "metadata": {
    "colab": {
     "base_uri": "https://localhost:8080/",
     "height": 517
    },
    "id": "Y-kYIwGyDV5Z",
    "outputId": "857934cd-49b2-4eb8-f0e7-3ac2b3ea27a0"
   },
   "outputs": [
    {
     "data": {
      "image/png": "[encoded data removed]",
      "text/plain": [
       "<Figure size 864x576 with 1 Axes>"
      ]
     },
     "metadata": {
      "needs_background": "light"
     },
     "output_type": "display_data"
    }
   ],
   "source": [
    "plt.scatter(x=df['budget'], y=df['gross'])\n",
    "plt.title('Budget v Gross Earnings')\n",
    "plt.xlabel('Budget')\n",
    "plt.ylabel('Gross Earnings')\n",
    "plt.show()"
   ]
  },
  {
   "cell_type": "markdown",
   "metadata": {
    "id": "lEMzM87lERRN"
   },
   "source": [
    "plot the budget v gross using seaborn"
   ]
  },
  {
   "cell_type": "code",
   "execution_count": 12,
   "metadata": {
    "colab": {
     "base_uri": "https://localhost:8080/",
     "height": 530
    },
    "id": "iRN3t51lEPC_",
    "outputId": "920fbe3b-5176-49f9-d7a1-0547e01dd14e"
   },
   "outputs": [
    {
     "data": {
      "text/plain": [
       "<AxesSubplot:xlabel='budget', ylabel='gross'>"
      ]
     },
     "execution_count": 12,
     "metadata": {},
     "output_type": "execute_result"
    },
    {
     "data": {
      "image/png": "[encoded data removed]",
      "text/plain": [
       "<Figure size 864x576 with 1 Axes>"
      ]
     },
     "metadata": {
      "needs_background": "light"
     },
     "output_type": "display_data"
    }
   ],
   "source": [
    "sns.regplot(x='budget', y='gross', data=df, scatter_kws={\"color\":\"red\"}, line_kws={\"color\":\"blue\"})"
   ]
  },
  {
   "cell_type": "markdown",
   "metadata": {
    "id": "1icr6CLgFmPI"
   },
   "source": [
    "numerical correlations"
   ]
  },
  {
   "cell_type": "code",
   "execution_count": 13,
   "metadata": {
    "colab": {
     "base_uri": "https://localhost:8080/",
     "height": 269
    },
    "id": "sJejC5oJFqgc",
    "outputId": "bae8a166-e4a8-4750-bbaf-c07976a6c49a"
   },
   "outputs": [
    {
     "data": {
      "text/html": [
       "<div>\n",
       "<style scoped>\n",
       "    .dataframe tbody tr th:only-of-type {\n",
       "        vertical-align: middle;\n",
       "    }\n",
       "\n",
       "    .dataframe tbody tr th {\n",
       "        vertical-align: top;\n",
       "    }\n",
       "\n",
       "    .dataframe thead th {\n",
       "        text-align: right;\n",
       "    }\n",
       "</style>\n",
       "<table border=\"1\" class=\"dataframe\">\n",
       "  <thead>\n",
       "    <tr style=\"text-align: right;\">\n",
       "      <th></th>\n",
       "      <th>year</th>\n",
       "      <th>score</th>\n",
       "      <th>votes</th>\n",
       "      <th>budget</th>\n",
       "      <th>gross</th>\n",
       "      <th>runtime</th>\n",
       "    </tr>\n",
       "  </thead>\n",
       "  <tbody>\n",
       "    <tr>\n",
       "      <th>year</th>\n",
       "      <td>1.000000</td>\n",
       "      <td>0.056386</td>\n",
       "      <td>0.206021</td>\n",
       "      <td>0.327722</td>\n",
       "      <td>0.274321</td>\n",
       "      <td>0.075077</td>\n",
       "    </tr>\n",
       "    <tr>\n",
       "      <th>score</th>\n",
       "      <td>0.056386</td>\n",
       "      <td>1.000000</td>\n",
       "      <td>0.474256</td>\n",
       "      <td>0.072001</td>\n",
       "      <td>0.222556</td>\n",
       "      <td>0.414068</td>\n",
       "    </tr>\n",
       "    <tr>\n",
       "      <th>votes</th>\n",
       "      <td>0.206021</td>\n",
       "      <td>0.474256</td>\n",
       "      <td>1.000000</td>\n",
       "      <td>0.439675</td>\n",
       "      <td>0.614751</td>\n",
       "      <td>0.352303</td>\n",
       "    </tr>\n",
       "    <tr>\n",
       "      <th>budget</th>\n",
       "      <td>0.327722</td>\n",
       "      <td>0.072001</td>\n",
       "      <td>0.439675</td>\n",
       "      <td>1.000000</td>\n",
       "      <td>0.740247</td>\n",
       "      <td>0.318695</td>\n",
       "    </tr>\n",
       "    <tr>\n",
       "      <th>gross</th>\n",
       "      <td>0.274321</td>\n",
       "      <td>0.222556</td>\n",
       "      <td>0.614751</td>\n",
       "      <td>0.740247</td>\n",
       "      <td>1.000000</td>\n",
       "      <td>0.275796</td>\n",
       "    </tr>\n",
       "    <tr>\n",
       "      <th>runtime</th>\n",
       "      <td>0.075077</td>\n",
       "      <td>0.414068</td>\n",
       "      <td>0.352303</td>\n",
       "      <td>0.318695</td>\n",
       "      <td>0.275796</td>\n",
       "      <td>1.000000</td>\n",
       "    </tr>\n",
       "  </tbody>\n",
       "</table>\n",
       "</div>"
      ],
      "text/plain": [
       "             year     score     votes    budget     gross   runtime\n",
       "year     1.000000  0.056386  0.206021  0.327722  0.274321  0.075077\n",
       "score    0.056386  1.000000  0.474256  0.072001  0.222556  0.414068\n",
       "votes    0.206021  0.474256  1.000000  0.439675  0.614751  0.352303\n",
       "budget   0.327722  0.072001  0.439675  1.000000  0.740247  0.318695\n",
       "gross    0.274321  0.222556  0.614751  0.740247  1.000000  0.275796\n",
       "runtime  0.075077  0.414068  0.352303  0.318695  0.275796  1.000000"
      ]
     },
     "execution_count": 13,
     "metadata": {},
     "output_type": "execute_result"
    }
   ],
   "source": [
    "df.corr() # method = 'pearson', 'kendall', 'spearman'"
   ]
  },
  {
   "cell_type": "markdown",
   "metadata": {
    "id": "JUjFqQ29GcrT"
   },
   "source": [
    "visualize correlation"
   ]
  },
  {
   "cell_type": "code",
   "execution_count": 14,
   "metadata": {
    "colab": {
     "base_uri": "https://localhost:8080/",
     "height": 487
    },
    "id": "FvZHcj3MGjJ9",
    "outputId": "b7095185-519a-4083-d379-71b5924ad417"
   },
   "outputs": [
    {
     "data": {
      "image/png": "[encoded data removed]",
      "text/plain": [
       "<Figure size 864x576 with 2 Axes>"
      ]
     },
     "metadata": {
      "needs_background": "light"
     },
     "output_type": "display_data"
    }
   ],
   "source": [
    "correlation_matrix = df.corr(method='spearman')\n",
    "sns.heatmap(correlation_matrix, annot=True)\n",
    "plt.show()"
   ]
  },
  {
   "cell_type": "markdown",
   "metadata": {
    "id": "A7Bd533jLmzx"
   },
   "source": [
    "try spearmanr (rank) correlation"
   ]
  },
  {
   "cell_type": "code",
   "execution_count": 15,
   "metadata": {
    "id": "dEgo1A6CLtd8"
   },
   "outputs": [],
   "source": [
    "from scipy.stats import spearmanr"
   ]
  },
  {
   "cell_type": "code",
   "execution_count": 16,
   "metadata": {
    "colab": {
     "base_uri": "https://localhost:8080/"
    },
    "id": "rEOepZQnLzRD",
    "outputId": "587ffb6e-7ec3-43ad-ce6e-a890011b9318"
   },
   "outputs": [
    {
     "name": "stdout",
     "output_type": "stream",
     "text": [
      "0.2149142053038572 1.1358517480329462e-57\n"
     ]
    }
   ],
   "source": [
    "rho, p = spearmanr(df['company'], df['gross'])\n",
    "print(rho, p)"
   ]
  },
  {
   "cell_type": "markdown",
   "metadata": {},
   "source": [
    "show budgets & grosses for one company"
   ]
  },
  {
   "cell_type": "code",
   "execution_count": 27,
   "metadata": {},
   "outputs": [],
   "source": [
    "company_data = df[df['company'] == 'Imagine Entertainment'].sort_values('gross')"
   ]
  },
  {
   "cell_type": "code",
   "execution_count": 28,
   "metadata": {},
   "outputs": [
    {
     "data": {
      "text/plain": [
       "<AxesSubplot:xlabel='name'>"
      ]
     },
     "execution_count": 28,
     "metadata": {},
     "output_type": "execute_result"
    },
    {
     "data": {
      "image/png": "[encoded data removed]",
      "text/plain": [
       "<Figure size 864x576 with 1 Axes>"
      ]
     },
     "metadata": {
      "needs_background": "light"
     },
     "output_type": "display_data"
    }
   ],
   "source": [
    "company_data.plot(x='name', y=['budget', 'gross'], kind='bar')"
   ]
  },
  {
   "cell_type": "markdown",
   "metadata": {},
   "source": [
    "two companies; two scatterplots"
   ]
  },
  {
   "cell_type": "code",
   "execution_count": 29,
   "metadata": {},
   "outputs": [
    {
     "data": {
      "image/png": "[encoded data removed]",
      "text/plain": [
       "<Figure size 864x576 with 1 Axes>"
      ]
     },
     "metadata": {
      "needs_background": "light"
     },
     "output_type": "display_data"
    }
   ],
   "source": [
    "company_df1 = df[df['company'] == 'Warner Bros.']\n",
    "company_df2 = df[df['company'] == 'Columbia Pictures']\n",
    "\n",
    "fig, ax = plt.subplots()\n",
    "sns.regplot(x='budget', y='gross', data=company_df1, scatter_kws={\"color\":\"red\"}, line_kws={\"color\":\"blue\"}, label='Warner Bros.')\n",
    "sns.regplot(x='budget', y='gross', data=company_df2, scatter_kws={\"color\":\"green\"}, line_kws={\"color\":\"purple\"}, label='Columbia Pictures')\n",
    "plt.legend()\n",
    "plt.show()"
   ]
  },
  {
   "cell_type": "code",
   "execution_count": null,
   "metadata": {},
   "outputs": [],
   "source": []
  }
 ],
 "metadata": {
  "colab": {
   "authorship_tag": "ABX9TyNRpuRn1WEjDrXQNtyYg0M2",
   "include_colab_link": true,
   "name": "PortfolioProject4_movies.ipynb",
   "provenance": []
  },
  "kernelspec": {
   "display_name": "Python 3 (ipykernel)",
   "language": "python",
   "name": "python3"
  },
  "language_info": {
   "codemirror_mode": {
    "name": "ipython",
    "version": 3
   },
   "file_extension": ".py",
   "mimetype": "text/x-python",
   "name": "python",
   "nbconvert_exporter": "python",
   "pygments_lexer": "ipython3",
   "version": "3.9.12"
  }
 },
 "nbformat": 4,
 "nbformat_minor": 1
}
